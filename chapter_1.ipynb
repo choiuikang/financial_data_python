{
 "cells": [
  {
   "cell_type": "markdown",
   "id": "625df21d",
   "metadata": {},
   "source": [
    "# 1. 금융 데이터 수집하기\n",
    "금융 데이터를 수집하는 방법은 여러 가지가 있지만, 이 책에서는 일반인이 인터넷을 통해서 돈을 지급하지 않고 수집하는 방법을 알아보자. 데이터를 수집하는 방법에 따라 파이썬 패키지, 오픈 API, 웹 크로링의 3가지로 크게 나누었다. <br>\n",
    "구분 : 수집 대상(범위) : 활용 난이도 <br>\n",
    "파이썬 패키지 :  좁다 : 쉽다 <br>\n",
    "오픈 API : 중간 : 중간 <br>\n",
    "크롤링 : 넓다 : 어렵다 <br>\n",
    "가장 쉽게 데이터를 수집하는 방법은 파이썬 패키지로 이용하는 것이다. 보통 오픈 API로 제공되는 데이터를 사용하기 쉽게 재구성한 패키지들이다. 가장 대표적인 패키지로는 pandas-datareader가 있다. <br>\n",
    "금융 데이터를 수집하기 위해 가장 적합한 방법은 오픈 API다. 하지만, 모든 데이터가 오픈 API로 제공되지 않는다. API는 Application Programming Interface의 약자로 해당 기능을 이용하여 다른 프로그램을 만들 수 있는 수준의 인터페이스를 제공하는 것을 말한다.<br>\n",
    "최근에는 금융결제원을 통해서 금융 관련 API가 많이 개방되고 있다. 데이터를 제공하는 것도 API로 구현된 곳이 많다. 공공 기관에서도 오픈 API를 통해 많은 데이터를 공개하고 있습니다. 공공 데이터 포털(www.data.go.kr)에 가면 개방된 데이터를 한 번에 볼 수 있다."
   ]
  },
  {
   "cell_type": "markdown",
   "id": "6ecc25c8",
   "metadata": {},
   "source": [
    "웹 크롤링을 이용하면 웹에 있는 모든 데이터를 내 PC로 저장할 수 있다. 그래서, 수집할 수 있는 범위가 가장 넓지만, HTML, CSS, 자바스크립트 등 웹에서 사용되는 기술에 대해 일부 알아야 한다. 웹 크롤링하는 방법은 여러 가지가 있다. 그중에서도 가장 많이 사용하는 방법을 정리하면 다음과 같다.\n",
    "- 구분 : 수집 대상(범위) : 활용난이도\n",
    "- urllib 패키지 이용 : 좁다 : 쉽다\n",
    "- 셀레늄(selenium)이용 : 넓다 : 어렵다\n",
    "- scrapy 패키지 이용 : 중간 : 중간 \n",
    "\n",
    "파이썬으로 웹 크롤링할 때 가장 먼저 하는 방법이 urllib 패키지를 이용하는 것이다. 하지만, urllib 패키지는 동적으로 변하는 페이지를 크롤링하거나 자동화하기에 어려움이 있다. 이럴 때 유용하게 사용할 수 있는 것이 셀레늄(selenium) 패키지 이다. 세레늄은 웹 테스트 자동화를 위한 도구로, 파이썬 코드로 웹 브라우저를 조정할 수 있다. 웹에서 할 수 있는 거의 모든 동작을 할 수 있어 매우 유용하다. scrapy패키지는 크롤링을 위한 단계들이 미리 구조화되어 있다. 많은 웹 페이지를 자주 수집할 때 유용한 패키지이다."
   ]
  },
  {
   "cell_type": "markdown",
   "id": "58dd3a74",
   "metadata": {},
   "source": [
    "## 1.1 파이썬 패키지를 이용하여 데이터 수집하기\n",
    "금융 데이터를 수집할 수 있는 패키지로 가장 많이 사용되는 것은 pandas-datareader이다. pandas-datareader는 금융 데이터를 제공하는 여러 가지 사이트의 정보를 쉽게 수집할 수 있도록 도와준다. <br>\n",
    "국내 주식 데이터를 수집할 수 있는 finance-datareader에 대해서도 알아보자.\n",
    "\n",
    "### 주가데이터\n",
    "pandas-datareader로 주가 데이터를 수집하는 방법은 여ㄹ 가지가 있습니다. 야후와 구글 파이낸스가 가장 대표적이다. 하지만, 이 둘은 pandas-datareader에서 없어질 예정이다. 그래서 tiingo에서 주가 데이터를 받아 보자. tiingo는 해외 주가 데이터만 수집할 수 있습니다. 국내 주가 데이터는 뒤에서 알아볼 FinanceDataReader를 이용해 받을 수 있다. <br>\n",
    "tiingo를 이용하려면 API KEY를 발급받아야 한다. 무료로 회원가입을 하면, API KEY도 발급 받을 수 있다.(www.tiingo.com)"
   ]
  },
  {
   "cell_type": "code",
   "execution_count": 1,
   "id": "eb99303a",
   "metadata": {},
   "outputs": [],
   "source": [
    "import pandas_datareader as pdr"
   ]
  },
  {
   "cell_type": "code",
   "execution_count": 3,
   "id": "0cf9cdd2",
   "metadata": {},
   "outputs": [
    {
     "name": "stderr",
     "output_type": "stream",
     "text": [
      "/home/ubuntu/anaconda3/lib/python3.8/site-packages/pandas_datareader/tiingo.py:234: FutureWarning: In a future version of pandas all arguments of concat except for the argument 'objs' will be keyword-only\n",
      "  return pd.concat(dfs, self._concat_axis)\n"
     ]
    },
    {
     "data": {
      "text/html": [
       "<div>\n",
       "<style scoped>\n",
       "    .dataframe tbody tr th:only-of-type {\n",
       "        vertical-align: middle;\n",
       "    }\n",
       "\n",
       "    .dataframe tbody tr th {\n",
       "        vertical-align: top;\n",
       "    }\n",
       "\n",
       "    .dataframe thead th {\n",
       "        text-align: right;\n",
       "    }\n",
       "</style>\n",
       "<table border=\"1\" class=\"dataframe\">\n",
       "  <thead>\n",
       "    <tr style=\"text-align: right;\">\n",
       "      <th></th>\n",
       "      <th></th>\n",
       "      <th>close</th>\n",
       "      <th>high</th>\n",
       "      <th>low</th>\n",
       "      <th>open</th>\n",
       "      <th>volume</th>\n",
       "      <th>adjClose</th>\n",
       "      <th>adjHigh</th>\n",
       "      <th>adjLow</th>\n",
       "      <th>adjOpen</th>\n",
       "      <th>adjVolume</th>\n",
       "      <th>divCash</th>\n",
       "      <th>splitFactor</th>\n",
       "    </tr>\n",
       "    <tr>\n",
       "      <th>symbol</th>\n",
       "      <th>date</th>\n",
       "      <th></th>\n",
       "      <th></th>\n",
       "      <th></th>\n",
       "      <th></th>\n",
       "      <th></th>\n",
       "      <th></th>\n",
       "      <th></th>\n",
       "      <th></th>\n",
       "      <th></th>\n",
       "      <th></th>\n",
       "      <th></th>\n",
       "      <th></th>\n",
       "    </tr>\n",
       "  </thead>\n",
       "  <tbody>\n",
       "    <tr>\n",
       "      <th rowspan=\"5\" valign=\"top\">GOOG</th>\n",
       "      <th>2016-12-12 00:00:00+00:00</th>\n",
       "      <td>789.27</td>\n",
       "      <td>791.2500</td>\n",
       "      <td>784.3554</td>\n",
       "      <td>785.04</td>\n",
       "      <td>2104117</td>\n",
       "      <td>789.27</td>\n",
       "      <td>791.2500</td>\n",
       "      <td>784.3554</td>\n",
       "      <td>785.04</td>\n",
       "      <td>2104117</td>\n",
       "      <td>0.0</td>\n",
       "      <td>1.0</td>\n",
       "    </tr>\n",
       "    <tr>\n",
       "      <th>2016-12-13 00:00:00+00:00</th>\n",
       "      <td>796.10</td>\n",
       "      <td>804.3799</td>\n",
       "      <td>793.3400</td>\n",
       "      <td>793.90</td>\n",
       "      <td>2145209</td>\n",
       "      <td>796.10</td>\n",
       "      <td>804.3799</td>\n",
       "      <td>793.3400</td>\n",
       "      <td>793.90</td>\n",
       "      <td>2145209</td>\n",
       "      <td>0.0</td>\n",
       "      <td>1.0</td>\n",
       "    </tr>\n",
       "    <tr>\n",
       "      <th>2016-12-14 00:00:00+00:00</th>\n",
       "      <td>797.07</td>\n",
       "      <td>804.0000</td>\n",
       "      <td>794.0100</td>\n",
       "      <td>797.40</td>\n",
       "      <td>1704150</td>\n",
       "      <td>797.07</td>\n",
       "      <td>804.0000</td>\n",
       "      <td>794.0100</td>\n",
       "      <td>797.40</td>\n",
       "      <td>1704150</td>\n",
       "      <td>0.0</td>\n",
       "      <td>1.0</td>\n",
       "    </tr>\n",
       "    <tr>\n",
       "      <th>2016-12-15 00:00:00+00:00</th>\n",
       "      <td>797.85</td>\n",
       "      <td>803.0000</td>\n",
       "      <td>792.9200</td>\n",
       "      <td>797.34</td>\n",
       "      <td>1626499</td>\n",
       "      <td>797.85</td>\n",
       "      <td>803.0000</td>\n",
       "      <td>792.9200</td>\n",
       "      <td>797.34</td>\n",
       "      <td>1626499</td>\n",
       "      <td>0.0</td>\n",
       "      <td>1.0</td>\n",
       "    </tr>\n",
       "    <tr>\n",
       "      <th>2016-12-16 00:00:00+00:00</th>\n",
       "      <td>790.80</td>\n",
       "      <td>800.8558</td>\n",
       "      <td>790.2900</td>\n",
       "      <td>800.40</td>\n",
       "      <td>2443796</td>\n",
       "      <td>790.80</td>\n",
       "      <td>800.8558</td>\n",
       "      <td>790.2900</td>\n",
       "      <td>800.40</td>\n",
       "      <td>2443796</td>\n",
       "      <td>0.0</td>\n",
       "      <td>1.0</td>\n",
       "    </tr>\n",
       "  </tbody>\n",
       "</table>\n",
       "</div>"
      ],
      "text/plain": [
       "                                   close      high       low    open   volume  \\\n",
       "symbol date                                                                     \n",
       "GOOG   2016-12-12 00:00:00+00:00  789.27  791.2500  784.3554  785.04  2104117   \n",
       "       2016-12-13 00:00:00+00:00  796.10  804.3799  793.3400  793.90  2145209   \n",
       "       2016-12-14 00:00:00+00:00  797.07  804.0000  794.0100  797.40  1704150   \n",
       "       2016-12-15 00:00:00+00:00  797.85  803.0000  792.9200  797.34  1626499   \n",
       "       2016-12-16 00:00:00+00:00  790.80  800.8558  790.2900  800.40  2443796   \n",
       "\n",
       "                                  adjClose   adjHigh    adjLow  adjOpen  \\\n",
       "symbol date                                                               \n",
       "GOOG   2016-12-12 00:00:00+00:00    789.27  791.2500  784.3554   785.04   \n",
       "       2016-12-13 00:00:00+00:00    796.10  804.3799  793.3400   793.90   \n",
       "       2016-12-14 00:00:00+00:00    797.07  804.0000  794.0100   797.40   \n",
       "       2016-12-15 00:00:00+00:00    797.85  803.0000  792.9200   797.34   \n",
       "       2016-12-16 00:00:00+00:00    790.80  800.8558  790.2900   800.40   \n",
       "\n",
       "                                  adjVolume  divCash  splitFactor  \n",
       "symbol date                                                        \n",
       "GOOG   2016-12-12 00:00:00+00:00    2104117      0.0          1.0  \n",
       "       2016-12-13 00:00:00+00:00    2145209      0.0          1.0  \n",
       "       2016-12-14 00:00:00+00:00    1704150      0.0          1.0  \n",
       "       2016-12-15 00:00:00+00:00    1626499      0.0          1.0  \n",
       "       2016-12-16 00:00:00+00:00    2443796      0.0          1.0  "
      ]
     },
     "execution_count": 3,
     "metadata": {},
     "output_type": "execute_result"
    }
   ],
   "source": [
    "TINGO_API_KEY = \"3ea2e6544378676afbcaabf76ad2ed6c254f6352\"\n",
    "df = pdr.get_data_tiingo('GOOG', api_key = TINGO_API_KEY)\n",
    "df.head()"
   ]
  },
  {
   "cell_type": "code",
   "execution_count": 4,
   "id": "ec23d813",
   "metadata": {},
   "outputs": [],
   "source": [
    "import seaborn as sns"
   ]
  },
  {
   "cell_type": "code",
   "execution_count": 5,
   "id": "96c1c024",
   "metadata": {},
   "outputs": [
    {
     "data": {
      "text/plain": [
       "<AxesSubplot:xlabel='date', ylabel='adjClose'>"
      ]
     },
     "execution_count": 5,
     "metadata": {},
     "output_type": "execute_result"
    },
    {
     "data": {
      "image/png": "[encoded data removed]",
      "text/plain": [
       "<Figure size 432x288 with 1 Axes>"
      ]
     },
     "metadata": {
      "needs_background": "light"
     },
     "output_type": "display_data"
    }
   ],
   "source": [
    "sns.lineplot(x=df.index.levels[1], y=\"adjClose\", data=df)"
   ]
  },
  {
   "cell_type": "code",
   "execution_count": null,
   "id": "e86a4920",
   "metadata": {},
   "outputs": [],
   "source": []
  }
 ],
 "metadata": {
  "kernelspec": {
   "display_name": "Python 3 (ipykernel)",
   "language": "python",
   "name": "python3"
  },
  "language_info": {
   "codemirror_mode": {
    "name": "ipython",
    "version": 3
   },
   "file_extension": ".py",
   "mimetype": "text/x-python",
   "name": "python",
   "nbconvert_exporter": "python",
   "pygments_lexer": "ipython3",
   "version": "3.8.12"
  }
 },
 "nbformat": 4,
 "nbformat_minor": 5
}
